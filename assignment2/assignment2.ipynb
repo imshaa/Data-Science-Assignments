{
  "nbformat": 4,
  "nbformat_minor": 0,
  "metadata": {
    "colab": {
      "provenance": []
    },
    "kernelspec": {
      "name": "python3",
      "display_name": "Python 3"
    },
    "language_info": {
      "name": "python"
    }
  },
  "cells": [
    {
      "cell_type": "code",
      "execution_count": 26,
      "metadata": {
        "colab": {
          "base_uri": "https://localhost:8080/"
        },
        "id": "enRaLQhMOii2",
        "outputId": "5fcebb65-0324-4270-cfdc-32b415575e01"
      },
      "outputs": [
        {
          "output_type": "stream",
          "name": "stdout",
          "text": [
            "Number of duplicate rows: 0\n",
            "After removing duplicates: 0\n",
            "\n",
            "Missing values before cleaning:\n",
            "school;sex;age;address;famsize;Pstatus;Medu;Fedu;Mjob;Fjob;reason;guardian;traveltime;studytime;failures;schoolsup;famsup;paid;activities;nursery;higher;internet;romantic;famrel;freetime;goout;Dalc;Walc;health;absences;G1;G2;G3    0\n",
            "dtype: int64\n",
            "\n",
            "Missing values after filling:\n",
            "school;sex;age;address;famsize;Pstatus;Medu;Fedu;Mjob;Fjob;reason;guardian;traveltime;studytime;failures;schoolsup;famsup;paid;activities;nursery;higher;internet;romantic;famrel;freetime;goout;Dalc;Walc;health;absences;G1;G2;G3    0\n",
            "dtype: int64\n",
            "\n",
            "Data types:\n",
            "school;sex;age;address;famsize;Pstatus;Medu;Fedu;Mjob;Fjob;reason;guardian;traveltime;studytime;failures;schoolsup;famsup;paid;activities;nursery;higher;internet;romantic;famrel;freetime;goout;Dalc;Walc;health;absences;G1;G2;G3    object\n",
            "dtype: object\n",
            "BEFORE CLEANING:\n",
            "Rows, Columns: (649, 1)\n",
            "Missing values:\n",
            " school;sex;age;address;famsize;Pstatus;Medu;Fedu;Mjob;Fjob;reason;guardian;traveltime;studytime;failures;schoolsup;famsup;paid;activities;nursery;higher;internet;romantic;famrel;freetime;goout;Dalc;Walc;health;absences;G1;G2;G3    0\n",
            "dtype: int64\n",
            "Duplicates: 0\n",
            "\n",
            "AFTER CLEANING:\n",
            "Rows, Columns: (649, 1)\n",
            "Missing values:\n",
            " school;sex;age;address;famsize;Pstatus;Medu;Fedu;Mjob;Fjob;reason;guardian;traveltime;studytime;failures;schoolsup;famsup;paid;activities;nursery;higher;internet;romantic;famrel;freetime;goout;Dalc;Walc;health;absences;G1;G2;G3    0\n",
            "dtype: int64\n",
            "Duplicates: 0\n",
            "\n",
            "Changes Summary:\n",
            "Rows removed: 0\n"
          ]
        }
      ],
      "source": [
        "import pandas as pd\n",
        "import seaborn as sns\n",
        "import matplotlib.pyplot as plt\n",
        "\n",
        "df = pd.read_csv('/content/students.csv')\n",
        "print(\"Number of duplicate rows:\", df.duplicated().sum())\n",
        "\n",
        "df = df.drop_duplicates()\n",
        "print(\"After removing duplicates:\", df.duplicated().sum())\n",
        "\n",
        "print(\"\\nMissing values before cleaning:\")\n",
        "print(df.isnull().sum())\n",
        "\n",
        "# Fill missing numeric values with mean, and categorical with mode\n",
        "for col in df.columns:\n",
        "    if df[col].dtype == 'object':  # Categorical column\n",
        "        df[col].fillna(df[col].mode()[0])\n",
        "    else:  # Numeric column\n",
        "        df[col].fillna(df[col].mean(), inplace=True)\n",
        "\n",
        "print(\"\\nMissing values after filling:\")\n",
        "print(df.isnull().sum())\n",
        "\n",
        "#  Detecting outliers in numeric columns using boxplot\n",
        "numeric_cols = df.select_dtypes(include=['float64', 'int64']).columns\n",
        "\n",
        "for col in numeric_cols:\n",
        "    plt.figure(figsize=(6,3))\n",
        "    sns.boxplot(x=df[col])\n",
        "    plt.title(f'Outlier check for {col}')\n",
        "    plt.show()\n",
        "\n",
        "# Remove outliers using IQR method for each numeric column\n",
        "for col in numeric_cols:\n",
        "    Q1 = df[col].quantile(0.25)\n",
        "    Q3 = df[col].quantile(0.75)\n",
        "    IQR = Q3 - Q1\n",
        "    df = df[(df[col] >= Q1 - 1.5 * IQR) & (df[col] <= Q3 + 1.5 * IQR)]\n",
        "\n",
        "print(\"\\nData types:\")\n",
        "print(df.dtypes)\n",
        "\n",
        "\n",
        "# Reload original dataset again for comparison\n",
        "original_df = pd.read_csv('/content/students.csv')\n",
        "\n",
        "print(\"BEFORE CLEANING:\")\n",
        "print(\"Rows, Columns:\", original_df.shape)\n",
        "print(\"Missing values:\\n\", original_df.isnull().sum())\n",
        "print(\"Duplicates:\", original_df.duplicated().sum())\n",
        "\n",
        "print(\"\\nAFTER CLEANING:\")\n",
        "print(\"Rows, Columns:\", df.shape)\n",
        "print(\"Missing values:\\n\", df.isnull().sum())\n",
        "print(\"Duplicates:\", df.duplicated().sum())\n",
        "\n",
        "print(\"\\nChanges Summary:\")\n",
        "print(f\"Rows removed: {original_df.shape[0] - df.shape[0]}\")\n",
        "\n",
        "df.to_csv('StudentsPerformance_Cleaned.csv', index=False)\n",
        "\n"
      ]
    }
  ]
}